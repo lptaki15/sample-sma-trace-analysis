{
 "cells": [
  {
   "cell_type": "markdown",
   "metadata": {},
   "source": [
    "# Single Trace Analysis Condensed"
   ]
  },
  {
   "cell_type": "code",
   "execution_count": 5,
   "metadata": {},
   "outputs": [],
   "source": [
    "import os\n",
    "import numpy as np\n",
    "from analysis_functions import load_csv_data, plot_1d_raw_data, plot_2d_scatter, plot_kde, plot_psd, analyze_folder\n",
    "from localization_precision import sigma_brownian_loc_theoretical, sigma_brownian_theoretical, sigma_localizations"
   ]
  },
  {
   "cell_type": "code",
   "execution_count": 3,
   "metadata": {},
   "outputs": [
    {
     "name": "stdout",
     "output_type": "stream",
     "text": [
      "title as: 00000\n"
     ]
    }
   ],
   "source": [
    "# adjust settings here and then run downstream cells\n",
    "\n",
    "# TRACE PATH SETTINGS ##########\n",
    "# load your trajectory into file_path, must be directly to an existing csv file\n",
    "csv_number = '00000'\n",
    "file_path = '/Users/laurentakiguchi/Desktop/DNAntenna-Code/data/20230724_antenna/RORE/0nM/638_1000hz_0004trcsv/' + csv_number + '.csv' \n",
    "exp_name = file_path.split('/')[-2]\n",
    "\n",
    "# SAVE PATH SETTINGS #############\n",
    "save_figs = 1 # 1 = saves plots to folder, 0 = doesn't save plots\n",
    "save_folder = '/Users/laurentakiguchi/Desktop/' # where your plots will save\n",
    "os.makedirs(save_folder,exist_ok=True)\n",
    "\n",
    "# CAMERA ACQUISITION SETTINGS ############\n",
    "pixel_size = 108 # camera specific, 1 pixel = pixel_size nm\n",
    "fsample = 1000 # in Hz or s^-1, acquisition framerate \n",
    "###################################\n",
    "print('title as:',csv_number) # plot title and save handles, make sure it's right"
   ]
  },
  {
   "cell_type": "code",
   "execution_count": 4,
   "metadata": {},
   "outputs": [],
   "source": [
    "data = load_csv_data(file_path, pixel_size)\n",
    "fig1d = plot_1d_raw_data(data, fsample, save_folder, csv_number, exp_name, save_figs)\n",
    "fig2dscat = plot_2d_scatter(fig1d, save_folder, csv_number, exp_name, fsample, save_figs)\n",
    "figkde = plot_kde(fig1d, save_folder, csv_number, exp_name, fsample, save_figs)\n",
    "figpsd = plot_psd(fig1d, fsample, save_folder, csv_number, exp_name, save_figs)"
   ]
  },
  {
   "cell_type": "code",
   "execution_count": 6,
   "metadata": {},
   "outputs": [
    {
     "name": "stdout",
     "output_type": "stream",
     "text": [
      "Sigma Localizations (deg): 17.849794136884366\n",
      "Sigma Localizations (nm): 28.71197738096251\n",
      "Epsilon: 1.6487552902498055\n"
     ]
    }
   ],
   "source": [
    "intensity_mean = np.mean(fig1d['c0int'])\n",
    "sigma_localizations_nm = sigma_localizations(intensity_mean) # in nm\n",
    "sigma_localizations_angular = np.rad2deg(np.arcsin(sigma_localizations_nm / (85+8.67))) # in degrees\n",
    "epsilon = (2*(sigma_localizations_nm**2))/fsample # frequency-independent localization uncertainty constant\n",
    "\n",
    "print('Sigma Localizations (deg):', sigma_localizations_angular)\n",
    "print('Sigma Localizations (nm):', sigma_localizations_nm)\n",
    "print('Epsilon:', epsilon)"
   ]
  },
  {
   "cell_type": "code",
   "execution_count": null,
   "metadata": {},
   "outputs": [],
   "source": []
  },
  {
   "cell_type": "code",
   "execution_count": null,
   "metadata": {},
   "outputs": [],
   "source": []
  }
 ],
 "metadata": {
  "kernelspec": {
   "display_name": "origami",
   "language": "python",
   "name": "python3"
  },
  "language_info": {
   "codemirror_mode": {
    "name": "ipython",
    "version": 3
   },
   "file_extension": ".py",
   "mimetype": "text/x-python",
   "name": "python",
   "nbconvert_exporter": "python",
   "pygments_lexer": "ipython3",
   "version": "3.7.16"
  }
 },
 "nbformat": 4,
 "nbformat_minor": 2
}
